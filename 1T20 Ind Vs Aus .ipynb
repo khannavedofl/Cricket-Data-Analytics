{
 "cells": [
  {
   "cell_type": "code",
   "execution_count": null,
   "id": "4b737f4f",
   "metadata": {
    "scrolled": true
   },
   "outputs": [],
   "source": [
    "import requests\n",
    "from bs4 import BeautifulSoup\n",
    "import pandas as pd"
   ]
  },
  {
   "cell_type": "code",
   "execution_count": null,
   "id": "91c85090",
   "metadata": {
    "scrolled": true
   },
   "outputs": [],
   "source": [
    "r = requests.get('https://www.espncricinfo.com/series/australia-in-india-2023-24-1389381/india-vs-australia-1st-t20i-1389391/full-scorecard')"
   ]
  },
  {
   "cell_type": "code",
   "execution_count": null,
   "id": "d1230a97",
   "metadata": {
    "scrolled": false
   },
   "outputs": [],
   "source": [
    "soup = BeautifulSoup(r.content,'lxml')\n",
    "print(soup)"
   ]
  },
  {
   "cell_type": "code",
   "execution_count": null,
   "id": "6dc6e9e6",
   "metadata": {
    "scrolled": false
   },
   "outputs": [],
   "source": [
    "div = soup.find(\"d\",class_=\"ds-p-0\") \n",
    "print(soup.div)"
   ]
  },
  {
   "cell_type": "code",
   "execution_count": null,
   "id": "45e002cb",
   "metadata": {
    "scrolled": true
   },
   "outputs": [],
   "source": [
    "title = soup.div.find_all(\"th\")\n",
    "print(title)"
   ]
  },
  {
   "cell_type": "code",
   "execution_count": null,
   "id": "29aeb202",
   "metadata": {
    "scrolled": true
   },
   "outputs": [],
   "source": [
    "header = []\n",
    "\n",
    "for i  in title:\n",
    "    name = i.text\n",
    "    header.append(name)\n",
    "\n",
    "print(header)"
   ]
  },
  {
   "cell_type": "markdown",
   "id": "bb6f9607",
   "metadata": {},
   "source": [
    "# Aus Batting"
   ]
  },
  {
   "cell_type": "code",
   "execution_count": null,
   "id": "ec8969e9",
   "metadata": {
    "scrolled": true
   },
   "outputs": [],
   "source": [
    "Aus_Batting = header[:8]\n",
    "Aus_Batting"
   ]
  },
  {
   "cell_type": "code",
   "execution_count": null,
   "id": "5f2e507e",
   "metadata": {
    "scrolled": true
   },
   "outputs": [],
   "source": [
    "df = pd.DataFrame(columns=Aus_Batting)\n",
    "df"
   ]
  },
  {
   "cell_type": "code",
   "execution_count": null,
   "id": "26ad891e",
   "metadata": {
    "scrolled": true
   },
   "outputs": [],
   "source": [
    "df.columns"
   ]
  },
  {
   "cell_type": "code",
   "execution_count": null,
   "id": "3ac5fe69",
   "metadata": {
    "scrolled": true
   },
   "outputs": [],
   "source": [
    "df.columns = ['BATTING', 'Out_NotOut', 'R', 'B', 'M', '4s', '6s', 'SR']"
   ]
  },
  {
   "cell_type": "code",
   "execution_count": null,
   "id": "b92ae056",
   "metadata": {
    "scrolled": true
   },
   "outputs": [],
   "source": [
    "batting_header = df.columns"
   ]
  },
  {
   "cell_type": "code",
   "execution_count": null,
   "id": "2d0d5e28",
   "metadata": {
    "scrolled": true
   },
   "outputs": [],
   "source": [
    "rows = soup.table.find('tbody')\n",
    "rows"
   ]
  },
  {
   "cell_type": "code",
   "execution_count": null,
   "id": "ba61124c",
   "metadata": {
    "scrolled": true
   },
   "outputs": [],
   "source": [
    "data = soup.table.find_all('td')\n",
    "data"
   ]
  },
  {
   "cell_type": "code",
   "execution_count": null,
   "id": "be3f6fbc",
   "metadata": {
    "scrolled": true
   },
   "outputs": [],
   "source": [
    "data1=data[0:45]"
   ]
  },
  {
   "cell_type": "code",
   "execution_count": null,
   "id": "92c860bb",
   "metadata": {
    "scrolled": true
   },
   "outputs": [],
   "source": [
    "row1 = [tr.text for tr in data1[:43]]    \n",
    "row1"
   ]
  },
  {
   "cell_type": "code",
   "execution_count": null,
   "id": "42fc433c",
   "metadata": {
    "scrolled": true
   },
   "outputs": [],
   "source": [
    "row2 = list(filter(None,row1))\n",
    "row2"
   ]
  },
  {
   "cell_type": "code",
   "execution_count": null,
   "id": "79b27624",
   "metadata": {
    "scrolled": true
   },
   "outputs": [],
   "source": [
    "df"
   ]
  },
  {
   "cell_type": "code",
   "execution_count": null,
   "id": "2b747133",
   "metadata": {
    "scrolled": true
   },
   "outputs": [],
   "source": [
    "l = len(df)\n",
    "l"
   ]
  },
  {
   "cell_type": "code",
   "execution_count": null,
   "id": "f455d16e",
   "metadata": {
    "scrolled": true
   },
   "outputs": [],
   "source": [
    "row1 = [tr.text for tr in data[:8]]    \n",
    "row1"
   ]
  },
  {
   "cell_type": "code",
   "execution_count": null,
   "id": "e418b90f",
   "metadata": {
    "scrolled": true
   },
   "outputs": [],
   "source": [
    "l = len(df)\n",
    "df.loc[l] = row1\n",
    "df"
   ]
  },
  {
   "cell_type": "code",
   "execution_count": null,
   "id": "809a755c",
   "metadata": {
    "scrolled": true
   },
   "outputs": [],
   "source": [
    "row1 = [tr.text for tr in data[9:17]]\n",
    "row1\n",
    "\n",
    "l = len(df)\n",
    "df.loc[l] = row1\n",
    "df"
   ]
  },
  {
   "cell_type": "code",
   "execution_count": null,
   "id": "878ee4ea",
   "metadata": {
    "scrolled": true
   },
   "outputs": [],
   "source": [
    "row1 = [tr.text for tr in data[18:26]]\n",
    "row1\n",
    "\n",
    "l = len(df)\n",
    "df.loc[l] = row1\n",
    "df"
   ]
  },
  {
   "cell_type": "code",
   "execution_count": null,
   "id": "0be7479c",
   "metadata": {
    "scrolled": true
   },
   "outputs": [],
   "source": [
    "row1 = [tr.text for tr in data[27:35]]\n",
    "row1\n",
    "\n",
    "l = len(df)\n",
    "df.loc[l] = row1\n",
    "df"
   ]
  },
  {
   "cell_type": "code",
   "execution_count": null,
   "id": "4070050d",
   "metadata": {
    "scrolled": true
   },
   "outputs": [],
   "source": [
    "row1 = [tr.text for tr in data[35:43]]\n",
    "row1\n",
    "\n",
    "l = len(df)\n",
    "df.loc[l] = row1\n",
    "df"
   ]
  },
  {
   "cell_type": "code",
   "execution_count": null,
   "id": "f43ff0fd",
   "metadata": {
    "scrolled": true
   },
   "outputs": [],
   "source": [
    "aus_batting_table = df"
   ]
  },
  {
   "cell_type": "code",
   "execution_count": null,
   "id": "ab01f1fd",
   "metadata": {
    "scrolled": true
   },
   "outputs": [],
   "source": [
    "aus_batting_table"
   ]
  },
  {
   "cell_type": "markdown",
   "id": "ac5fb635",
   "metadata": {},
   "source": [
    "# Ind Bowling"
   ]
  },
  {
   "cell_type": "code",
   "execution_count": null,
   "id": "c5e9d133",
   "metadata": {
    "scrolled": true
   },
   "outputs": [],
   "source": [
    "ind_bowling_header = header[8:19]\n",
    "ind_bowling_header"
   ]
  },
  {
   "cell_type": "code",
   "execution_count": null,
   "id": "bc5d7a6c",
   "metadata": {
    "scrolled": false
   },
   "outputs": [],
   "source": [
    "rows = soup.div.find_all('tbody')\n",
    "rows"
   ]
  },
  {
   "cell_type": "code",
   "execution_count": null,
   "id": "877bf152",
   "metadata": {
    "scrolled": true
   },
   "outputs": [],
   "source": [
    "df = pd.DataFrame(columns=ind_bowling_header)\n",
    "df"
   ]
  },
  {
   "cell_type": "code",
   "execution_count": null,
   "id": "2fddc409",
   "metadata": {
    "scrolled": false
   },
   "outputs": [],
   "source": [
    "data = soup.div.find_all('td')\n",
    "data"
   ]
  },
  {
   "cell_type": "code",
   "execution_count": null,
   "id": "9c7deab3",
   "metadata": {
    "scrolled": true
   },
   "outputs": [],
   "source": [
    "data1=data[53:]"
   ]
  },
  {
   "cell_type": "code",
   "execution_count": null,
   "id": "ff6be897",
   "metadata": {
    "scrolled": false
   },
   "outputs": [],
   "source": [
    "data1"
   ]
  },
  {
   "cell_type": "code",
   "execution_count": null,
   "id": "0fd00a77",
   "metadata": {
    "scrolled": true
   },
   "outputs": [],
   "source": [
    "row1 = [tr.text for tr in data1[:11]]    \n",
    "row1"
   ]
  },
  {
   "cell_type": "code",
   "execution_count": null,
   "id": "df1670ba",
   "metadata": {
    "scrolled": true
   },
   "outputs": [],
   "source": [
    "l = len(df)\n",
    "l"
   ]
  },
  {
   "cell_type": "code",
   "execution_count": null,
   "id": "318439dd",
   "metadata": {
    "scrolled": true
   },
   "outputs": [],
   "source": [
    "row1 = [tr.text for tr in data1[:11]]   \n",
    "row1"
   ]
  },
  {
   "cell_type": "code",
   "execution_count": null,
   "id": "de461ebd",
   "metadata": {
    "scrolled": true
   },
   "outputs": [],
   "source": [
    "l = len(df)\n",
    "df.loc[l] = row1\n",
    "df"
   ]
  },
  {
   "cell_type": "code",
   "execution_count": null,
   "id": "e60d2cd4",
   "metadata": {
    "scrolled": true
   },
   "outputs": [],
   "source": [
    "row1 = [tr.text for tr in data1[11:22]]   \n",
    "row1"
   ]
  },
  {
   "cell_type": "code",
   "execution_count": null,
   "id": "6f865a0c",
   "metadata": {
    "scrolled": true
   },
   "outputs": [],
   "source": [
    "l = len(df)\n",
    "df.loc[l] = row1\n",
    "df"
   ]
  },
  {
   "cell_type": "code",
   "execution_count": null,
   "id": "c94c2359",
   "metadata": {
    "scrolled": true
   },
   "outputs": [],
   "source": [
    "row1 = [tr.text for tr in data1[23:34]]   \n",
    "row1"
   ]
  },
  {
   "cell_type": "code",
   "execution_count": null,
   "id": "91733f06",
   "metadata": {
    "scrolled": true
   },
   "outputs": [],
   "source": [
    "l = len(df)\n",
    "df.loc[l] = row1\n",
    "df"
   ]
  },
  {
   "cell_type": "code",
   "execution_count": null,
   "id": "e1ab0dd9",
   "metadata": {
    "scrolled": true
   },
   "outputs": [],
   "source": [
    "row1 = [tr.text for tr in data1[34:45]]   \n",
    "row1"
   ]
  },
  {
   "cell_type": "code",
   "execution_count": null,
   "id": "59b95bfd",
   "metadata": {
    "scrolled": true
   },
   "outputs": [],
   "source": [
    "l = len(df)\n",
    "df.loc[l] = row1\n",
    "df"
   ]
  },
  {
   "cell_type": "code",
   "execution_count": null,
   "id": "5149234c",
   "metadata": {
    "scrolled": true
   },
   "outputs": [],
   "source": [
    "row1 = [tr.text for tr in data1[46:57]]   \n",
    "row1"
   ]
  },
  {
   "cell_type": "code",
   "execution_count": null,
   "id": "d272a422",
   "metadata": {
    "scrolled": true
   },
   "outputs": [],
   "source": [
    "l = len(df)\n",
    "df.loc[l] = row1\n",
    "df"
   ]
  },
  {
   "cell_type": "code",
   "execution_count": null,
   "id": "0f41a555",
   "metadata": {
    "scrolled": true
   },
   "outputs": [],
   "source": [
    "india_Bowling_table = df"
   ]
  },
  {
   "cell_type": "code",
   "execution_count": null,
   "id": "bf0a68d5",
   "metadata": {
    "scrolled": true
   },
   "outputs": [],
   "source": [
    "india_Bowling_table"
   ]
  },
  {
   "cell_type": "markdown",
   "id": "b3cac09a",
   "metadata": {},
   "source": [
    "# Ind Batting"
   ]
  },
  {
   "cell_type": "code",
   "execution_count": null,
   "id": "c0cabfa0",
   "metadata": {
    "scrolled": true
   },
   "outputs": [],
   "source": [
    "ind_batting_header = batting_header"
   ]
  },
  {
   "cell_type": "code",
   "execution_count": null,
   "id": "87d1e3b5",
   "metadata": {
    "scrolled": true
   },
   "outputs": [],
   "source": [
    "ind_batting_header"
   ]
  },
  {
   "cell_type": "code",
   "execution_count": null,
   "id": "35e21543",
   "metadata": {
    "scrolled": true
   },
   "outputs": [],
   "source": [
    "df = pd.DataFrame(columns=batting_header)\n",
    "df"
   ]
  },
  {
   "cell_type": "code",
   "execution_count": null,
   "id": "8be67344",
   "metadata": {
    "scrolled": false
   },
   "outputs": [],
   "source": [
    "data1=data[127:]\n",
    "data1"
   ]
  },
  {
   "cell_type": "code",
   "execution_count": null,
   "id": "0c1ba175",
   "metadata": {
    "scrolled": true
   },
   "outputs": [],
   "source": [
    "row1 = [tr.text for tr in data1[1:71]]   \n",
    "row1"
   ]
  },
  {
   "cell_type": "code",
   "execution_count": null,
   "id": "e8a2ea6e",
   "metadata": {
    "scrolled": true
   },
   "outputs": [],
   "source": [
    "row2 = list(filter(None,row1))\n",
    "row2"
   ]
  },
  {
   "cell_type": "code",
   "execution_count": null,
   "id": "94f81201",
   "metadata": {
    "scrolled": true
   },
   "outputs": [],
   "source": [
    "'''\n",
    "\n",
    "l = len(df)\n",
    "df.loc[l] = row2\n",
    "df\n",
    "\n",
    "'''"
   ]
  },
  {
   "cell_type": "code",
   "execution_count": null,
   "id": "e566f742",
   "metadata": {
    "scrolled": true
   },
   "outputs": [],
   "source": [
    "row1 = [tr.text for tr in data1[1:9]]   \n",
    "row1"
   ]
  },
  {
   "cell_type": "code",
   "execution_count": null,
   "id": "2498a8c4",
   "metadata": {
    "scrolled": true
   },
   "outputs": [],
   "source": [
    "l = len(df)\n",
    "df.loc[l] = row1\n",
    "df"
   ]
  },
  {
   "cell_type": "code",
   "execution_count": null,
   "id": "7647d526",
   "metadata": {
    "scrolled": true
   },
   "outputs": [],
   "source": [
    "row1 = [tr.text for tr in data1[10:18]]   \n",
    "row1"
   ]
  },
  {
   "cell_type": "code",
   "execution_count": null,
   "id": "b12a7321",
   "metadata": {
    "scrolled": true
   },
   "outputs": [],
   "source": [
    "l = len(df)\n",
    "df.loc[l] = row1\n",
    "df"
   ]
  },
  {
   "cell_type": "code",
   "execution_count": null,
   "id": "a609e79f",
   "metadata": {
    "scrolled": true
   },
   "outputs": [],
   "source": [
    "row1 = [tr.text for tr in data1[19:27]]   \n",
    "row1"
   ]
  },
  {
   "cell_type": "code",
   "execution_count": null,
   "id": "d235cc76",
   "metadata": {
    "scrolled": true
   },
   "outputs": [],
   "source": [
    "l = len(df)\n",
    "df.loc[l] = row1\n",
    "df"
   ]
  },
  {
   "cell_type": "code",
   "execution_count": null,
   "id": "a487f41e",
   "metadata": {
    "scrolled": true
   },
   "outputs": [],
   "source": [
    "row1 = [tr.text for tr in data1[28:36]]   \n",
    "row1"
   ]
  },
  {
   "cell_type": "code",
   "execution_count": null,
   "id": "bb27ea9a",
   "metadata": {
    "scrolled": true
   },
   "outputs": [],
   "source": [
    "l = len(df)\n",
    "df.loc[l] = row1\n",
    "df"
   ]
  },
  {
   "cell_type": "code",
   "execution_count": null,
   "id": "0c52f087",
   "metadata": {
    "scrolled": true
   },
   "outputs": [],
   "source": [
    "row1 = [tr.text for tr in data1[36:44]]   \n",
    "row1"
   ]
  },
  {
   "cell_type": "code",
   "execution_count": null,
   "id": "35c8a70a",
   "metadata": {
    "scrolled": true
   },
   "outputs": [],
   "source": [
    "l = len(df)\n",
    "df.loc[l] = row1\n",
    "df"
   ]
  },
  {
   "cell_type": "code",
   "execution_count": null,
   "id": "6c9b9cc6",
   "metadata": {
    "scrolled": true
   },
   "outputs": [],
   "source": [
    "row1 = [tr.text for tr in data1[45:53]]   \n",
    "row1"
   ]
  },
  {
   "cell_type": "code",
   "execution_count": null,
   "id": "2502feff",
   "metadata": {
    "scrolled": true
   },
   "outputs": [],
   "source": [
    "l = len(df)\n",
    "df.loc[l] = row1\n",
    "df"
   ]
  },
  {
   "cell_type": "code",
   "execution_count": null,
   "id": "e0cfa02f",
   "metadata": {
    "scrolled": true
   },
   "outputs": [],
   "source": [
    "row1 = [tr.text for tr in data1[54:62]]   \n",
    "row1"
   ]
  },
  {
   "cell_type": "code",
   "execution_count": null,
   "id": "e62c1791",
   "metadata": {
    "scrolled": true
   },
   "outputs": [],
   "source": [
    "l = len(df)\n",
    "df.loc[l] = row1\n",
    "df"
   ]
  },
  {
   "cell_type": "code",
   "execution_count": null,
   "id": "f659ee34",
   "metadata": {
    "scrolled": true
   },
   "outputs": [],
   "source": [
    "row1 = [tr.text for tr in data1[63:71]]   \n",
    "row1"
   ]
  },
  {
   "cell_type": "code",
   "execution_count": null,
   "id": "209ce4bf",
   "metadata": {
    "scrolled": true
   },
   "outputs": [],
   "source": [
    "l = len(df)\n",
    "df.loc[l] = row1\n",
    "df"
   ]
  },
  {
   "cell_type": "code",
   "execution_count": null,
   "id": "9e4778eb",
   "metadata": {
    "scrolled": true
   },
   "outputs": [],
   "source": [
    "india_Batting_table = df"
   ]
  },
  {
   "cell_type": "code",
   "execution_count": null,
   "id": "f2345cbf",
   "metadata": {
    "scrolled": true
   },
   "outputs": [],
   "source": [
    "india_Batting_table"
   ]
  },
  {
   "cell_type": "markdown",
   "id": "12dbbbd8",
   "metadata": {},
   "source": [
    "# Aus Bowling"
   ]
  },
  {
   "cell_type": "code",
   "execution_count": null,
   "id": "1f6b0f5e",
   "metadata": {
    "scrolled": true
   },
   "outputs": [],
   "source": [
    "aus_bowling_header  = ind_bowling_header\n",
    "aus_bowling_header"
   ]
  },
  {
   "cell_type": "code",
   "execution_count": null,
   "id": "c528386f",
   "metadata": {
    "scrolled": true
   },
   "outputs": [],
   "source": [
    "df = pd.DataFrame(columns=aus_bowling_header)\n",
    "df"
   ]
  },
  {
   "cell_type": "code",
   "execution_count": null,
   "id": "64b6efd2",
   "metadata": {
    "scrolled": true
   },
   "outputs": [],
   "source": [
    "row1 = [tr.text for tr in data1[81:92]]   \n",
    "row1"
   ]
  },
  {
   "cell_type": "code",
   "execution_count": null,
   "id": "842facbe",
   "metadata": {
    "scrolled": true
   },
   "outputs": [],
   "source": [
    "l = len(df)\n",
    "df.loc[l] = row1\n",
    "df"
   ]
  },
  {
   "cell_type": "code",
   "execution_count": null,
   "id": "6135bc82",
   "metadata": {
    "scrolled": true
   },
   "outputs": [],
   "source": [
    "row1 = [tr.text for tr in data1[92:103]]   \n",
    "row1"
   ]
  },
  {
   "cell_type": "code",
   "execution_count": null,
   "id": "199fe459",
   "metadata": {
    "scrolled": true
   },
   "outputs": [],
   "source": [
    "l = len(df)\n",
    "df.loc[l] = row1\n",
    "df"
   ]
  },
  {
   "cell_type": "code",
   "execution_count": null,
   "id": "8035f5fe",
   "metadata": {
    "scrolled": true
   },
   "outputs": [],
   "source": [
    "row1 = [tr.text for tr in data1[104:115]]   \n",
    "row1"
   ]
  },
  {
   "cell_type": "code",
   "execution_count": null,
   "id": "0f0bde02",
   "metadata": {
    "scrolled": true
   },
   "outputs": [],
   "source": [
    "l = len(df)\n",
    "df.loc[l] = row1\n",
    "df"
   ]
  },
  {
   "cell_type": "code",
   "execution_count": null,
   "id": "40005bb6",
   "metadata": {
    "scrolled": true
   },
   "outputs": [],
   "source": [
    "row1 = [tr.text for tr in data1[116:127]]   \n",
    "row1"
   ]
  },
  {
   "cell_type": "code",
   "execution_count": null,
   "id": "f5afd1fa",
   "metadata": {
    "scrolled": true
   },
   "outputs": [],
   "source": [
    "l = len(df)\n",
    "df.loc[l] = row1\n",
    "df"
   ]
  },
  {
   "cell_type": "code",
   "execution_count": null,
   "id": "7e916ad3",
   "metadata": {
    "scrolled": true
   },
   "outputs": [],
   "source": [
    "row1 = [tr.text for tr in data1[128:139]]   \n",
    "row1"
   ]
  },
  {
   "cell_type": "code",
   "execution_count": null,
   "id": "debd5789",
   "metadata": {
    "scrolled": true
   },
   "outputs": [],
   "source": [
    "l = len(df)\n",
    "df.loc[l] = row1\n",
    "df"
   ]
  },
  {
   "cell_type": "code",
   "execution_count": null,
   "id": "1849b441",
   "metadata": {
    "scrolled": true
   },
   "outputs": [],
   "source": [
    "row1 = [tr.text for tr in data1[139:150]]   \n",
    "row1"
   ]
  },
  {
   "cell_type": "code",
   "execution_count": null,
   "id": "26ab2767",
   "metadata": {
    "scrolled": true
   },
   "outputs": [],
   "source": [
    "l = len(df)\n",
    "df.loc[l] = row1\n",
    "df"
   ]
  },
  {
   "cell_type": "code",
   "execution_count": null,
   "id": "a1e0ad9e",
   "metadata": {
    "scrolled": true
   },
   "outputs": [],
   "source": [
    "aus_bowling_table = df"
   ]
  },
  {
   "cell_type": "code",
   "execution_count": null,
   "id": "c42a1ff6",
   "metadata": {
    "scrolled": true
   },
   "outputs": [],
   "source": [
    "aus_bowling_table"
   ]
  },
  {
   "cell_type": "markdown",
   "id": "330b53af",
   "metadata": {},
   "source": [
    "# Filteration \n",
    "\n",
    "# Both Batting Table"
   ]
  },
  {
   "cell_type": "code",
   "execution_count": null,
   "id": "c1785308",
   "metadata": {
    "scrolled": true
   },
   "outputs": [],
   "source": [
    "frames = [india_Batting_table,aus_batting_table]"
   ]
  },
  {
   "cell_type": "code",
   "execution_count": null,
   "id": "ce1afef4",
   "metadata": {
    "scrolled": true
   },
   "outputs": [],
   "source": [
    "ind_aus_batting_table = pd.concat(frames)"
   ]
  },
  {
   "cell_type": "code",
   "execution_count": null,
   "id": "a7a791fc",
   "metadata": {
    "scrolled": true
   },
   "outputs": [],
   "source": [
    "ind_aus_batting_table"
   ]
  },
  {
   "cell_type": "markdown",
   "id": "c7e2cc8c",
   "metadata": {},
   "source": [
    "# Filteration - Adding Column"
   ]
  },
  {
   "cell_type": "code",
   "execution_count": 1,
   "id": "c7ebb2dc",
   "metadata": {
    "scrolled": true
   },
   "outputs": [
    {
     "ename": "NameError",
     "evalue": "name 'ind_aus_batting_table' is not defined",
     "output_type": "error",
     "traceback": [
      "\u001b[1;31m---------------------------------------------------------------------------\u001b[0m",
      "\u001b[1;31mNameError\u001b[0m                                 Traceback (most recent call last)",
      "Cell \u001b[1;32mIn[1], line 1\u001b[0m\n\u001b[1;32m----> 1\u001b[0m ind_aus_batting_table \u001b[38;5;241m=\u001b[39m ind_aus_batting_table\u001b[38;5;241m.\u001b[39massign(Match_id\u001b[38;5;241m=\u001b[39m\u001b[38;5;241m1389381\u001b[39m)\n",
      "\u001b[1;31mNameError\u001b[0m: name 'ind_aus_batting_table' is not defined"
     ]
    }
   ],
   "source": [
    "ind_aus_batting_table = ind_aus_batting_table.assign(Match_id=1389391)"
   ]
  },
  {
   "cell_type": "code",
   "execution_count": null,
   "id": "9f6f1251",
   "metadata": {
    "scrolled": true
   },
   "outputs": [],
   "source": [
    "ind_aus_batting_table.insert(0,'Match_Id',ind_aus_batting_table['Match_id'])"
   ]
  },
  {
   "cell_type": "code",
   "execution_count": null,
   "id": "dfc1d70b",
   "metadata": {
    "scrolled": true
   },
   "outputs": [],
   "source": [
    "ind_aus_batting_table"
   ]
  },
  {
   "cell_type": "code",
   "execution_count": null,
   "id": "8672e7f6",
   "metadata": {
    "scrolled": true
   },
   "outputs": [],
   "source": [
    "ind_aus_batting_table = ind_aus_batting_table.drop(columns=['Match_id'])"
   ]
  },
  {
   "cell_type": "code",
   "execution_count": null,
   "id": "c76519f0",
   "metadata": {
    "scrolled": true
   },
   "outputs": [],
   "source": [
    "ind_aus_batting_table.drop_duplicates()"
   ]
  },
  {
   "cell_type": "code",
   "execution_count": null,
   "id": "279892d1",
   "metadata": {
    "scrolled": true
   },
   "outputs": [],
   "source": [
    "ind_aus_batting_table"
   ]
  },
  {
   "cell_type": "code",
   "execution_count": null,
   "id": "3ffdf3c8",
   "metadata": {
    "scrolled": true
   },
   "outputs": [],
   "source": [
    "ind_aus_batting_table_1st_T20 = ind_aus_batting_table\n",
    "ind_aus_batting_table_1st_T20"
   ]
  },
  {
   "cell_type": "code",
   "execution_count": null,
   "id": "07c4d12a",
   "metadata": {
    "scrolled": true
   },
   "outputs": [],
   "source": [
    "ind_aus_batting_table_1st_T20"
   ]
  },
  {
   "cell_type": "code",
   "execution_count": null,
   "id": "3b8cd882",
   "metadata": {},
   "outputs": [],
   "source": [
    "ind_aus_batting_table_1st_T20 = ind_aus_batting_table_1st_T20.assign(Team= 'Ind vs Aus')\n",
    "ind_aus_batting_table_1st_T20.insert(1,'TEAM',ind_aus_batting_table_1st_T20['Team'])"
   ]
  },
  {
   "cell_type": "code",
   "execution_count": null,
   "id": "d2c42a8a",
   "metadata": {},
   "outputs": [],
   "source": [
    "ind_aus_batting_table_1st_T20"
   ]
  },
  {
   "cell_type": "markdown",
   "id": "b60747b6",
   "metadata": {},
   "source": [
    "# Both Bowling Table"
   ]
  },
  {
   "cell_type": "code",
   "execution_count": null,
   "id": "c658207a",
   "metadata": {
    "scrolled": true
   },
   "outputs": [],
   "source": [
    "frames = [india_Bowling_table,aus_bowling_table]"
   ]
  },
  {
   "cell_type": "code",
   "execution_count": null,
   "id": "802c3b33",
   "metadata": {
    "scrolled": true
   },
   "outputs": [],
   "source": [
    "ind_aus_bowling_table_1st_T20 = pd.concat(frames)"
   ]
  },
  {
   "cell_type": "code",
   "execution_count": null,
   "id": "6c571504",
   "metadata": {
    "scrolled": true
   },
   "outputs": [],
   "source": [
    "ind_aus_bowling_table_1st_T20"
   ]
  },
  {
   "cell_type": "code",
   "execution_count": null,
   "id": "a7d3ddf0",
   "metadata": {
    "scrolled": true
   },
   "outputs": [],
   "source": [
    "ind_aus_bowling_table_1st_T20 = ind_aus_bowling_table_1st_T20.assign(Match_id= '1389391')\n",
    "ind_aus_bowling_table_1st_T20.insert(0,'MATCH_ID',ind_aus_bowling_table_1st_T20['Match_id'])"
   ]
  },
  {
   "cell_type": "code",
   "execution_count": null,
   "id": "22b66da1",
   "metadata": {},
   "outputs": [],
   "source": [
    "ind_aus_bowling_table_1st_T20.drop_duplicates()"
   ]
  },
  {
   "cell_type": "code",
   "execution_count": null,
   "id": "2ccdd449",
   "metadata": {},
   "outputs": [],
   "source": [
    "ind_aus_bowling_table_1st_T20 = ind_aus_bowling_table_1st_T20.assign(Team= 'Ind vs Aus')\n",
    "ind_aus_bowling_table_1st_T20.insert(1,'TEAM',ind_aus_bowling_table_1st_T20['Team'])"
   ]
  },
  {
   "cell_type": "code",
   "execution_count": null,
   "id": "f55247bb",
   "metadata": {},
   "outputs": [],
   "source": [
    "ind_aus_bowling_table_1st_T20.drop('Team',axis=1,inplace=True)"
   ]
  },
  {
   "cell_type": "code",
   "execution_count": null,
   "id": "bb976b10",
   "metadata": {},
   "outputs": [],
   "source": [
    "ind_aus_bowling_table_1st_T20.drop('Match_id',axis=1,inplace=True)"
   ]
  },
  {
   "cell_type": "code",
   "execution_count": null,
   "id": "358c118b",
   "metadata": {},
   "outputs": [],
   "source": [
    "ind_aus_bowling_table_1st_T20"
   ]
  },
  {
   "cell_type": "code",
   "execution_count": null,
   "id": "ae26c635",
   "metadata": {
    "scrolled": true
   },
   "outputs": [],
   "source": [
    "ind_aus_batting_table_1st_T20.to_csv('1st T20 Batting Excel.csv')"
   ]
  },
  {
   "cell_type": "code",
   "execution_count": null,
   "id": "e35cece6",
   "metadata": {
    "scrolled": true
   },
   "outputs": [],
   "source": [
    "ind_aus_bowling_table_1st_T20.to_csv('1st T20 Bowling Excel.csv')"
   ]
  },
  {
   "cell_type": "code",
   "execution_count": null,
   "id": "de051728",
   "metadata": {
    "scrolled": true
   },
   "outputs": [],
   "source": []
  },
  {
   "cell_type": "code",
   "execution_count": null,
   "id": "d18005ec",
   "metadata": {
    "scrolled": true
   },
   "outputs": [],
   "source": []
  },
  {
   "cell_type": "code",
   "execution_count": null,
   "id": "7090c7a8",
   "metadata": {
    "scrolled": true
   },
   "outputs": [],
   "source": []
  },
  {
   "cell_type": "code",
   "execution_count": null,
   "id": "b663842b",
   "metadata": {
    "scrolled": true
   },
   "outputs": [],
   "source": []
  }
 ],
 "metadata": {
  "kernelspec": {
   "display_name": "Python 3 (ipykernel)",
   "language": "python",
   "name": "python3"
  },
  "language_info": {
   "codemirror_mode": {
    "name": "ipython",
    "version": 3
   },
   "file_extension": ".py",
   "mimetype": "text/x-python",
   "name": "python",
   "nbconvert_exporter": "python",
   "pygments_lexer": "ipython3",
   "version": "3.11.4"
  }
 },
 "nbformat": 4,
 "nbformat_minor": 5
}
